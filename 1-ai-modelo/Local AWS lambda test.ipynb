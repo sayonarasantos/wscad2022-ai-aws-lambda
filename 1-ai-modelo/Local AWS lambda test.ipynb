{
 "cells": [
  {
   "cell_type": "code",
   "execution_count": 1,
   "id": "b2760184",
   "metadata": {},
   "outputs": [],
   "source": [
    "# python imports\n",
    "import os\n",
    "\n",
    "# hiding tensorflow warnings\n",
    "os.environ['TF_CPP_MIN_LOG_LEVEL'] = '3' \n",
    "\n",
    "# third-party imports\n",
    "import numpy as np\n",
    "from PIL import Image\n",
    "\n",
    "import tensorflow as tf"
   ]
  },
  {
   "cell_type": "code",
   "execution_count": 2,
   "id": "d0ed93fd",
   "metadata": {},
   "outputs": [],
   "source": [
    "LABELS = {\n",
    "    0: 'With Fire',\n",
    "    1: 'Without Fire' \n",
    "}"
   ]
  },
  {
   "cell_type": "code",
   "execution_count": 3,
   "id": "8b5c95b2",
   "metadata": {},
   "outputs": [],
   "source": [
    "# load trained model\n",
    "model = tf.keras.models.load_model('./model.h5')"
   ]
  },
  {
   "cell_type": "code",
   "execution_count": 4,
   "id": "7d651411",
   "metadata": {},
   "outputs": [],
   "source": [
    "# load image\n",
    "image = Image.open('./no-fire.jpg')\n",
    "\n",
    "# resize image\n",
    "image = image.resize((224, 224))"
   ]
  },
  {
   "cell_type": "code",
   "execution_count": 5,
   "id": "5c297535",
   "metadata": {},
   "outputs": [],
   "source": [
    "# extract the mean value of bits from each image channel\n",
    "image = image - np.mean(image)"
   ]
  },
  {
   "cell_type": "code",
   "execution_count": 6,
   "id": "7c2c0c6e",
   "metadata": {},
   "outputs": [],
   "source": [
    "# insert a new axis in the array\n",
    "input_tensor = np.array(np.expand_dims(image, axis=0), dtype=np.float32)"
   ]
  },
  {
   "cell_type": "code",
   "execution_count": 7,
   "id": "1afdc8a6",
   "metadata": {},
   "outputs": [
    {
     "name": "stdout",
     "output_type": "stream",
     "text": [
      "output_data: [[2.9700715e-09 1.0000000e+00]]\n"
     ]
    }
   ],
   "source": [
    "# predict image class\n",
    "output_data = model.predict(x=input_tensor, verbose=0)\n",
    "\n",
    "print(f'output_data: {output_data}')"
   ]
  },
  {
   "cell_type": "code",
   "execution_count": 8,
   "id": "9ae08aab",
   "metadata": {},
   "outputs": [
    {
     "name": "stdout",
     "output_type": "stream",
     "text": [
      "output_data: [2.9700715e-09 1.0000000e+00]\n"
     ]
    }
   ],
   "source": [
    "# Remove axes of length one from array\n",
    "output_data = np.squeeze(output_data)\n",
    "\n",
    "\n",
    "print(f'output_data: {output_data}')"
   ]
  },
  {
   "cell_type": "code",
   "execution_count": 9,
   "id": "8db321f7",
   "metadata": {},
   "outputs": [
    {
     "name": "stdout",
     "output_type": "stream",
     "text": [
      "result: 1\n"
     ]
    }
   ],
   "source": [
    "result = np.argmax(output_data, axis=-1)\n",
    "\n",
    "print(f'result: {result}')"
   ]
  },
  {
   "cell_type": "code",
   "execution_count": 10,
   "id": "a072300d",
   "metadata": {},
   "outputs": [
    {
     "name": "stdout",
     "output_type": "stream",
     "text": [
      "Prediction: Without Fire\n",
      "Probability: 1.00\n"
     ]
    }
   ],
   "source": [
    "print(f'Prediction: {LABELS[result]}')\n",
    "print(f'Probability: {output_data[result]:.2f}')"
   ]
  }
 ],
 "metadata": {
  "kernelspec": {
   "display_name": "Python 3 (ipykernel)",
   "language": "python",
   "name": "python3"
  },
  "language_info": {
   "codemirror_mode": {
    "name": "ipython",
    "version": 3
   },
   "file_extension": ".py",
   "mimetype": "text/x-python",
   "name": "python",
   "nbconvert_exporter": "python",
   "pygments_lexer": "ipython3",
   "version": "3.8.10"
  }
 },
 "nbformat": 4,
 "nbformat_minor": 5
}
